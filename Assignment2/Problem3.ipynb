{
 "cells": [
  {
   "cell_type": "code",
   "execution_count": 23,
   "id": "32a8e5b7",
   "metadata": {},
   "outputs": [],
   "source": [
    "import numpy as np\n",
    "import matplotlib.pyplot as plt\n",
    "import pandas as pd"
   ]
  },
  {
   "cell_type": "code",
   "execution_count": 24,
   "id": "57bc673a",
   "metadata": {},
   "outputs": [],
   "source": [
    "data = pd.read_csv(\"Pima.csv\", header=None, names=['Pregnancies', 'Glucose', 'BloodPressure', \n",
    "                                                   'SkinThickness', 'Insulin', 'BMI', 'DiabetesPedigreeFunction', 'Age','Targets'])\n",
    "df = pd.DataFrame(data)\n",
    "#df.head(5)\n"
   ]
  },
  {
   "cell_type": "code",
   "execution_count": 27,
   "id": "c5fe5b07",
   "metadata": {},
   "outputs": [
    {
     "data": {
      "text/html": [
       "<div>\n",
       "<style scoped>\n",
       "    .dataframe tbody tr th:only-of-type {\n",
       "        vertical-align: middle;\n",
       "    }\n",
       "\n",
       "    .dataframe tbody tr th {\n",
       "        vertical-align: top;\n",
       "    }\n",
       "\n",
       "    .dataframe thead th {\n",
       "        text-align: right;\n",
       "    }\n",
       "</style>\n",
       "<table border=\"1\" class=\"dataframe\">\n",
       "  <thead>\n",
       "    <tr style=\"text-align: right;\">\n",
       "      <th></th>\n",
       "      <th>Pregnancies</th>\n",
       "      <th>Glucose</th>\n",
       "      <th>BloodPressure</th>\n",
       "      <th>SkinThickness</th>\n",
       "      <th>Insulin</th>\n",
       "      <th>BMI</th>\n",
       "      <th>DiabetesPedigreeFunction</th>\n",
       "      <th>Age</th>\n",
       "    </tr>\n",
       "  </thead>\n",
       "  <tbody>\n",
       "    <tr>\n",
       "      <th>count</th>\n",
       "      <td>768.000000</td>\n",
       "      <td>768.000000</td>\n",
       "      <td>768.000000</td>\n",
       "      <td>768.000000</td>\n",
       "      <td>768.000000</td>\n",
       "      <td>768.000000</td>\n",
       "      <td>768.000000</td>\n",
       "      <td>768.000000</td>\n",
       "    </tr>\n",
       "    <tr>\n",
       "      <th>mean</th>\n",
       "      <td>3.845052</td>\n",
       "      <td>120.894531</td>\n",
       "      <td>69.105469</td>\n",
       "      <td>20.536458</td>\n",
       "      <td>79.799479</td>\n",
       "      <td>31.992578</td>\n",
       "      <td>0.471876</td>\n",
       "      <td>33.240885</td>\n",
       "    </tr>\n",
       "    <tr>\n",
       "      <th>std</th>\n",
       "      <td>3.369578</td>\n",
       "      <td>31.972618</td>\n",
       "      <td>19.355807</td>\n",
       "      <td>15.952218</td>\n",
       "      <td>115.244002</td>\n",
       "      <td>7.884160</td>\n",
       "      <td>0.331329</td>\n",
       "      <td>11.760232</td>\n",
       "    </tr>\n",
       "    <tr>\n",
       "      <th>min</th>\n",
       "      <td>0.000000</td>\n",
       "      <td>0.000000</td>\n",
       "      <td>0.000000</td>\n",
       "      <td>0.000000</td>\n",
       "      <td>0.000000</td>\n",
       "      <td>0.000000</td>\n",
       "      <td>0.078000</td>\n",
       "      <td>21.000000</td>\n",
       "    </tr>\n",
       "    <tr>\n",
       "      <th>25%</th>\n",
       "      <td>1.000000</td>\n",
       "      <td>99.000000</td>\n",
       "      <td>62.000000</td>\n",
       "      <td>0.000000</td>\n",
       "      <td>0.000000</td>\n",
       "      <td>27.300000</td>\n",
       "      <td>0.243750</td>\n",
       "      <td>24.000000</td>\n",
       "    </tr>\n",
       "    <tr>\n",
       "      <th>50%</th>\n",
       "      <td>3.000000</td>\n",
       "      <td>117.000000</td>\n",
       "      <td>72.000000</td>\n",
       "      <td>23.000000</td>\n",
       "      <td>30.500000</td>\n",
       "      <td>32.000000</td>\n",
       "      <td>0.372500</td>\n",
       "      <td>29.000000</td>\n",
       "    </tr>\n",
       "    <tr>\n",
       "      <th>75%</th>\n",
       "      <td>6.000000</td>\n",
       "      <td>140.250000</td>\n",
       "      <td>80.000000</td>\n",
       "      <td>32.000000</td>\n",
       "      <td>127.250000</td>\n",
       "      <td>36.600000</td>\n",
       "      <td>0.626250</td>\n",
       "      <td>41.000000</td>\n",
       "    </tr>\n",
       "    <tr>\n",
       "      <th>max</th>\n",
       "      <td>17.000000</td>\n",
       "      <td>199.000000</td>\n",
       "      <td>122.000000</td>\n",
       "      <td>99.000000</td>\n",
       "      <td>846.000000</td>\n",
       "      <td>67.100000</td>\n",
       "      <td>2.420000</td>\n",
       "      <td>81.000000</td>\n",
       "    </tr>\n",
       "  </tbody>\n",
       "</table>\n",
       "</div>"
      ],
      "text/plain": [
       "       Pregnancies     Glucose  BloodPressure  SkinThickness     Insulin  \\\n",
       "count   768.000000  768.000000     768.000000     768.000000  768.000000   \n",
       "mean      3.845052  120.894531      69.105469      20.536458   79.799479   \n",
       "std       3.369578   31.972618      19.355807      15.952218  115.244002   \n",
       "min       0.000000    0.000000       0.000000       0.000000    0.000000   \n",
       "25%       1.000000   99.000000      62.000000       0.000000    0.000000   \n",
       "50%       3.000000  117.000000      72.000000      23.000000   30.500000   \n",
       "75%       6.000000  140.250000      80.000000      32.000000  127.250000   \n",
       "max      17.000000  199.000000     122.000000      99.000000  846.000000   \n",
       "\n",
       "              BMI  DiabetesPedigreeFunction         Age  \n",
       "count  768.000000                768.000000  768.000000  \n",
       "mean    31.992578                  0.471876   33.240885  \n",
       "std      7.884160                  0.331329   11.760232  \n",
       "min      0.000000                  0.078000   21.000000  \n",
       "25%     27.300000                  0.243750   24.000000  \n",
       "50%     32.000000                  0.372500   29.000000  \n",
       "75%     36.600000                  0.626250   41.000000  \n",
       "max     67.100000                  2.420000   81.000000  "
      ]
     },
     "execution_count": 27,
     "metadata": {},
     "output_type": "execute_result"
    }
   ],
   "source": [
    "'''\n",
    "\n",
    "Q1. Report the statistics of each feature (min, max, average, standard deviation) and\n",
    "the histogram of the labels (target outputs).\n",
    "\n",
    "'''\n",
    "\n",
    "X = df[['Pregnancies', 'Glucose', 'BloodPressure', 'SkinThickness', 'Insulin', 'BMI', 'DiabetesPedigreeFunction', 'Age']]\n",
    "y = df['Targets']\n",
    "\n",
    "X.describe()"
   ]
  },
  {
   "cell_type": "code",
   "execution_count": 29,
   "id": "2bf38cb1",
   "metadata": {},
   "outputs": [
    {
     "data": {
      "image/png": "[encoded data removed]",
      "text/plain": [
       "<Figure size 432x288 with 1 Axes>"
      ]
     },
     "metadata": {
      "needs_background": "light"
     },
     "output_type": "display_data"
    }
   ],
   "source": [
    "X = np.array(X, dtype=np.float64)\n",
    "X_norm = np.array(X, dtype=np.float64)\n",
    "for i in range(8):\n",
    "    X_norm[:,i] = (X_norm[:,i] - np.mean(X_norm[:,i])) / np.std(X_norm[:,i])\n",
    "#print (X)\n",
    "#print (X_norm)\n",
    "y = np.array(y, dtype=np.int8)\n",
    "plt.hist(y,2,histtype='bar')\n",
    "plt.title(\"Histogram of the labels (target outputs)\")\n",
    "plt.xlabel('Count') \n",
    "plt.ylabel('Targets')\n",
    "plt.show()"
   ]
  },
  {
   "cell_type": "code",
   "execution_count": 17,
   "id": "0c4f2609",
   "metadata": {},
   "outputs": [
    {
     "data": {
      "image/png": "[encoded data removed]",
      "text/plain": [
       "<Figure size 432x288 with 1 Axes>"
      ]
     },
     "metadata": {
      "needs_background": "light"
     },
     "output_type": "display_data"
    },
    {
     "data": {
      "image/png": "[encoded data removed]",
      "text/plain": [
       "<Figure size 432x288 with 1 Axes>"
      ]
     },
     "metadata": {
      "needs_background": "light"
     },
     "output_type": "display_data"
    }
   ],
   "source": [
    "from sklearn.neighbors import KNeighborsClassifier\n",
    "from sklearn.model_selection import KFold\n",
    "from sklearn.model_selection import cross_val_score\n",
    "from sklearn.model_selection import train_test_split\n",
    "\n",
    "'''\n",
    "Q2. Split the data into training and test sets with 80% training and 20% test data sizes\n",
    "\n",
    "'''\n",
    "X_train, X_test, y_train, y_test = train_test_split(X, y, test_size=0.2)\n",
    "\n",
    "'''\n",
    "\n",
    "Q4. Process the input data by subtracting the mean (a.k.a. centralization) and dividing by the standard\n",
    "deviation (a.k.a. standardization) over each dimension (feature), repeat the previous part.\n",
    "\n",
    "'''\n",
    "X_norm_train, X_norm_test, y_norm_train, y_norm_test = train_test_split(X_norm, y, test_size=0.2)\n",
    "\n",
    "#print(X_train)\n",
    "#print(X_norm_train)\n",
    "\n",
    "'''\n",
    "\n",
    "Q2. (Continued) Use 5-fold cross-validation on training data to decide the best number of neighbours k. To this end,\n",
    "you can use the built in functionality in scikit-learn such as cross_val_score (note that this function\n",
    "returns the accuracy for each fold in an array and you have to average them to get the accuracy for\n",
    "all splits). \n",
    "\n",
    "For k = 1, 2, 3, . . . , 15 compute the 5-fold cross validation error and plot the results (with \n",
    "values of k on the x-axis and accuracy on the y-axis). \n",
    "\n",
    "'''\n",
    "\n",
    "def calculate_score(X,y):\n",
    "    cv = KFold(n_splits=5, random_state=1, shuffle=True)\n",
    "    avg_scores = []\n",
    "    for i in range(1,16):\n",
    "        model = KNeighborsClassifier(n_neighbors=i)\n",
    "        scores = cross_val_score(model, X, y, scoring='accuracy', cv=cv, n_jobs=-1)\n",
    "        avg_scores.append(np.mean(scores))\n",
    "    avg_scores = np.array(avg_scores,dtype=np.float64)\n",
    "    return avg_scores\n",
    "\n",
    "avg_scores = calculate_score(X,y)\n",
    "\n",
    "plt.plot(np.array(range(1,16), dtype=np.int8), avg_scores)\n",
    "plt.title(\"Without Normalization\")\n",
    "plt.xlabel('Number of Clusters (K)') \n",
    "plt.ylabel('Accuracy')\n",
    "plt.show()\n",
    "    \n",
    "\n",
    "avg_norm_scores = calculate_score(X_norm,y)\n",
    "\n",
    "plt.plot(np.array(range(1,16), dtype=np.int8), avg_norm_scores)\n",
    "plt.title(\"With Normalization\")\n",
    "plt.xlabel('Number of Clusters (K)') \n",
    "plt.ylabel('Accuracy')\n",
    "plt.show()\n"
   ]
  },
  {
   "cell_type": "code",
   "execution_count": 14,
   "id": "5298d8ae",
   "metadata": {},
   "outputs": [
    {
     "name": "stdout",
     "output_type": "stream",
     "text": [
      "Testing accuracy/score:\n",
      "0.7857142857142857\n",
      "\n",
      "Testing accuracy/score (after normalization): \n",
      "0.7207792207792207\n"
     ]
    }
   ],
   "source": [
    "'''\n",
    "\n",
    "Q3. Evaluate the k-NN algorithm on test data with the optimal number of neighbours you obtained in\n",
    "previous step and report the test error (you will use the same value of k you have found in 2.).\n",
    "\n",
    "'''\n",
    "knn = KNeighborsClassifier(n_neighbors=15) #since the accuracy without normalization is highest for K=15\n",
    "knn.fit(X_train,y_train)\n",
    "print(\"Testing accuracy/score:\")\n",
    "print(knn.score(X_test,y_test))\n",
    "\n",
    "'''\n",
    "Q4. Process the input data by subtracting the mean (a.k.a. centralization) and dividing by the standard\n",
    "deviation (a.k.a. standardization) over each dimension (feature), repeat the previous part and report\n",
    "the accuracy. Do centralization and standardization impact the accuracy?\n",
    "\n",
    "'''\n",
    "\n",
    "knn_norm = KNeighborsClassifier(n_neighbors=7) #since the accuracy with normalization is highest for K=7\n",
    "knn_norm.fit(X_norm_train,y_norm_train)\n",
    "print(\"\\nTesting accuracy/score (after normalization): \")\n",
    "print(knn_norm.score(X_norm_test,y_norm_test))"
   ]
  },
  {
   "cell_type": "code",
   "execution_count": 30,
   "id": "1b71026e",
   "metadata": {},
   "outputs": [],
   "source": [
    "'''\n",
    "\n",
    "Q4. Why?\n",
    "\n",
    "'''\n",
    "#Normalization has eliminated the outliers from the dataset, which were causing multiple extra classes earlier."
   ]
  },
  {
   "cell_type": "code",
   "execution_count": null,
   "id": "9a6f4884",
   "metadata": {},
   "outputs": [],
   "source": []
  }
 ],
 "metadata": {
  "kernelspec": {
   "display_name": "Python 3",
   "language": "python",
   "name": "python3"
  },
  "language_info": {
   "codemirror_mode": {
    "name": "ipython",
    "version": 3
   },
   "file_extension": ".py",
   "mimetype": "text/x-python",
   "name": "python",
   "nbconvert_exporter": "python",
   "pygments_lexer": "ipython3",
   "version": "3.8.8"
  }
 },
 "nbformat": 4,
 "nbformat_minor": 5
}
